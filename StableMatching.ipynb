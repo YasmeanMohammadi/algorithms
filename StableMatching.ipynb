{
  "nbformat": 4,
  "nbformat_minor": 0,
  "metadata": {
    "colab": {
      "provenance": [],
      "authorship_tag": "ABX9TyN4zd9PEVztsABeB/I8+hiG",
      "include_colab_link": true
    },
    "kernelspec": {
      "name": "python3",
      "display_name": "Python 3"
    },
    "language_info": {
      "name": "python"
    }
  },
  "cells": [
    {
      "cell_type": "markdown",
      "metadata": {
        "id": "view-in-github",
        "colab_type": "text"
      },
      "source": [
        "<a href=\"https://colab.research.google.com/github/YasmeanMohammadi/algorithms/blob/main/StableMatching.ipynb\" target=\"_parent\"><img src=\"https://colab.research.google.com/assets/colab-badge.svg\" alt=\"Open In Colab\"/></a>"
      ]
    },
    {
      "cell_type": "code",
      "execution_count": null,
      "metadata": {
        "id": "CMzKx6HQqlfR"
      },
      "outputs": [],
      "source": [
        "import numpy as np\n",
        "import matplotlib.pyplot as plt\n",
        "import networkx as nx\n",
        "import time\n",
        "\n",
        "def gale_shapley(men_prefs, women_prefs):\n",
        "    \"\"\"\n",
        "    Implements the Gale-Shapley stable matching algorithm.\n",
        "\n",
        "    men_prefs: A list of preference lists for each man.\n",
        "    women_prefs: A list of preference lists for each woman.\n",
        "\n",
        "    Returns a stable matching as a vector.\n",
        "    \"\"\"\n",
        "    n = len(men_prefs)\n",
        "    free_men = list(range(n))  # All men start as free\n",
        "    proposals = np.zeros((n, n), dtype=int)  # Track proposals (0 = not proposed, 1 = proposed)\n",
        "    engaged = [-1] * n  # Stores woman's current match (-1 means single)\n",
        "    women_ranks = np.argsort(women_prefs, axis=1)  # Fast lookup for ranking\n",
        "\n",
        "    while free_men:\n",
        "        man = free_men.pop(0)  # Take the first free man\n",
        "\n",
        "        for woman in men_prefs[man]:\n",
        "            if proposals[man][woman] == 0:  # If not yet proposed\n",
        "                proposals[man][woman] = 1  # Mark as proposed\n",
        "                current_partner = engaged[woman]\n",
        "\n",
        "                if current_partner == -1:  # Woman is free\n",
        "                    engaged[woman] = man\n",
        "                    break\n",
        "\n",
        "                # Check if she prefers the new proposer\n",
        "                elif women_ranks[woman][man] < women_ranks[woman][current_partner]:\n",
        "                    engaged[woman] = man  # She switches partners\n",
        "                    free_men.append(current_partner)  # The rejected man is now free\n",
        "                    break\n",
        "\n",
        "    return np.array(engaged)  # Convert result into a vector\n",
        "\n",
        "# Example with random preferences\n",
        "np.random.seed(42)\n",
        "n = 5  # Number of men and women\n",
        "men_prefs = np.argsort(np.random.rand(n, n), axis=1)\n",
        "women_prefs = np.argsort(np.random.rand(n, n), axis=1)\n",
        "\n",
        "# Run Gale-Shapley algorithm and measure time\n",
        "start_time = time.time()\n",
        "stable_matching = gale_shapley(men_prefs, women_prefs)\n",
        "end_time = time.time()\n",
        "\n",
        "# Visualizing the proposal process\n",
        "plt.figure(figsize=(6, 6))\n",
        "plt.imshow(men_prefs, cmap=\"Blues\", aspect=\"auto\")\n",
        "plt.colorbar(label=\"Rank in Preference List\")\n",
        "plt.xlabel(\"Women\")\n",
        "plt.ylabel(\"Men\")\n",
        "plt.title(\"Men's Preference Matrix\")\n",
        "plt.show()\n",
        "\n",
        "plt.figure(figsize=(6, 6))\n",
        "plt.imshow(women_prefs, cmap=\"Oranges\", aspect=\"auto\")\n",
        "plt.colorbar(label=\"Rank in Preference List\")\n",
        "plt.xlabel(\"Men\")\n",
        "plt.ylabel(\"Women\")\n",
        "plt.title(\"Women's Preference Matrix\")\n",
        "plt.show()\n",
        "\n",
        "# Visualizing the stable matching as a bipartite graph\n",
        "G = nx.Graph()\n",
        "men_nodes = [f\"M{i}\" for i in range(n)]\n",
        "women_nodes = [f\"W{i}\" for i in range(n)]\n",
        "G.add_nodes_from(men_nodes, bipartite=0)\n",
        "G.add_nodes_from(women_nodes, bipartite=1)\n",
        "G.add_edges_from([(f\"M{stable_matching[i]}\", f\"W{i}\") for i in range(n)])\n",
        "\n",
        "plt.figure(figsize=(8, 6))\n",
        "pos = {**{men_nodes[i]: (0, i) for i in range(n)}, **{women_nodes[i]: (1, i) for i in range(n)}}\n",
        "nx.draw(G, pos, with_labels=True, node_size=2000, node_color='lightblue', edge_color='black', font_size=10)\n",
        "plt.title(\"Stable Matching Bipartite Graph\")\n",
        "plt.show()\n",
        "\n",
        "# Display results\n",
        "print(\"Stable Matching (as vector):\", stable_matching)\n",
        "print(\"Execution Time:\", end_time - start_time, \"seconds\")\n"
      ]
    }
  ]
}